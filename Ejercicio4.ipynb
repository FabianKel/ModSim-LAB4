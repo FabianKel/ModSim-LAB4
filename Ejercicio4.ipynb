{
 "cells": [
  {
   "cell_type": "markdown",
   "id": "69859d9e",
   "metadata": {},
   "source": [
    "## Ejercicio 4"
   ]
  },
  {
   "cell_type": "markdown",
   "id": "5c585c67",
   "metadata": {},
   "source": [
    "### **Teoría**\n",
    "#### **Defina y responda:**"
   ]
  },
  {
   "cell_type": "markdown",
   "id": "062d2c98",
   "metadata": {},
   "source": [
    "\n",
    " **3. Considere un escenario con 1M de agentes con:**\n",
    "\n",
    " **a. Versión homogénea:** 3 rasgos (idénticos para todos los agentes)\n",
    "\n",
    "**b. Versión heterogénea**: 5 rasgos únicos por agente\n",
    "\n",
    "**c. Responda:**\n",
    "\n",
    "Calcule y compare los requisitos de memoria para ambas versiones.\n",
    "- Los cálculos se realizaron asumiendo que cada rasgo se almacena como un valor de punto flotante de 64 bits (8 bytes).\n",
    "    - **Versión homogénea:** Como los 3 rasgos son idénticos para todos los agentes, solo se almacenarán una vez. Es por eso que la memoria total será de $3 \\text{ rasgos } * 8 \\text{ bytes } = 24$. **24 bytes** es extremadamente eficiente, ya que no hay duplicación y los agentes simplemente se referencian los valores compartidos.\n",
    "\n",
    "    - **Versión heterogénea:** En este caso, los rasgos son únicos por cada agente. Por lo que la memoria total para los **1M** de agentes sería de $10^6 \\text{ agentes } * 5 \\text{ rasgos } * 8 \\text{ bytes } = \\bold{40,000,000} \\text{ bytes (40 MB)}$\n",
    "\n",
    "    - **Comparación:** la versión heterogénea requiere demasiada memoria comparada a la homogénea (**40 MB** vs **24 bytes**). Esto se debe a la duplicación por agente en la heterogénea, lo que puede llevar a problemas al momento de escadas en simulaciones grandes.\n",
    "\n",
    "Identifique qué rasgos de los agentes podrían simplificarse de forma segura para mejorar el rendimiento sin perder dinámicas críticas.\n",
    "- Para mejorar el rendimiento de los agentes se podría ser discretizar las variables **contínuas** como la `Edad`, `Movilidad`, `Inmunidad`.\n",
    "\n",
    "<br>\n",
    "\n",
    "**4. Dadas las curvas resultante de dos simulaciones que se muestran abajo, considere que cada una de estas:**\n",
    "\n",
    "**a. Resultado A:** Muestra eventos de superpropagación claros (modelado discreto de tiempo)\n",
    "- Los picos se dan precisamente en intervalos semanales.\n",
    "- No hay infecciones reportadas entre los días **6-7** o **13-14**\n",
    "- Distribución de rasgos del agente:\n",
    "    1. Edad – Discreta - [0-17, 18-65, 65+]\n",
    "    2. Movilidad – Continua - 0.1–5.0 (Contactos diarios)\n",
    "\n",
    "**b. Resultado B:** Muestra patrones de transmisión uniformes (Modelo de tiempo continuo)\n",
    "-  Los picos se producen a intervalos irregulares (días 3.2, 8.7 y 14.1).\n",
    "- Transmisión de bajo nivel entre brotes importantes.\n",
    "- Distribución de rasgos del agente\n",
    "    1. Edad – Continua – **0-100 años**\n",
    "    2. Inmunidad – Continua – **0.0-1.0 score de protección**\n",
    "\n",
    "**c. Reponda:**\n",
    "- Para el resultado A:\n",
    "    1. ¿Por qué los intervalos perfectos de 7 días sugieren un modelado de tiempo discreto?\n",
    "        - En un modelo discreto, las actualizaciones de estado ocurren en pasos fijos, sincronizando eventos artificialmente. Esto produce picos exactos en múltiplos de 7, ya que las transmisiones se van a ir acumulando y resolviendo solo al final de cada paso, en lugar de fluir continuamente.\n",
    "    2. ¿Cómo podría esto distorsionar la dinámica de transmisión en el mundo real?\n",
    "        - En el mundo real las transmisiones ocurren en tiempo contínuo, que además son influenciadas por eventos aleatorios y asincrónicos. El tiempo discreto podría exagerar picos sincronizados, como hacer que todos los contagios esperan a ser curados hasta el fin de semana, subestimar propagación gradual y ocultar variabilidad entre la semana, todo esto llevaría a tener predicciones inexactas sin reflejar brotes reales constantes.\n",
    "- Para el resultado B:\n",
    "    1. ¿Qué evidencia indica un procesamiento continuo?\n",
    "    - Se puede decir que los eventos ocurrieron en tiempo real gracias a los picos irregulares como en días decimales (3.2, 8.7, 14.1), además de la transmisión de bajo nivel entre ellos. Estos cambios permiten actualizaciones asincrónicas y acumulaciones no sincronizadas.\n",
    "    2. ¿Por qué las infecciones entre picos son visibles aquí, pero no en el Resultado A?\n",
    "- Análisis adicional:\n",
    "    - El resultado A muestra picos de tamaño idéntico a pesar de las diferentes puntuaciones de movilidad. ¿Es esto realista? ¿Por qué?\n",
    "    - El resultado B muestra algunos eventos superpropagadores (el pico del día 8.7 es tres veces mayor que otros). ¿Qué rasgo(s) podría(n) explicar esto?\n",
    "- Proponga:\n",
    "    1. Una prueba de sensibilidad temporal para el resultado A (p. ej., repetir la ejecución con intervalos de 12 horas frente a 24 horas).\n",
    "    2. Una prueba de aleatorización de rasgos para el resultado B para aislar los efectos de inmunidad frente a la edad\n"
   ]
  },
  {
   "cell_type": "markdown",
   "id": "49a932c9",
   "metadata": {},
   "source": [
    "## **Práctica**"
   ]
  },
  {
   "cell_type": "markdown",
   "id": "f79a6b79",
   "metadata": {},
   "source": [
    "Para esta parte se necesita que analice datos de simulación desconocidos para determinar:\n",
    "- Si se utiliza modelado temporal discreto o continuo\n",
    "- ¿Qué rasgos del agente influyeron más en los resultados?\n",
    "- Cómo validar los hallazgos\n",
    "\n",
    "Para ello considere lo siguiente:"
   ]
  },
  {
   "cell_type": "markdown",
   "id": "54847c8b",
   "metadata": {},
   "source": [
    "**Paso 1: Inspección de datos**\n",
    "Instrucciones:\n",
    "- Cargue el conjunto de datos proporcionado (esta en el script dado load_data.py) que contiene:\n",
    "    - timestamps: Matriz de tiempos de observación (enteros o decimales)\n",
    "    - new_infections: Recuentos de casos diarios/semanales\n",
    "    - agent_attributes: Tabla con columnas como edad, ocupación y estado de vacunación\n",
    "- Genere estos gráficos:\n",
    "    - Gráfico de series temporales: Infecciones vs. tiempo (marque los intervalos de tiempo)\n",
    "    - Distribución de rasgos: Histogramas de los atributos clave del agente\n",
    "- Responda:\n",
    "    - ¿Los recuentos de infecciones se informan a intervalos regulares (por ejemplo, diarios) o irregulares?\n",
    "    - ¿Observa intervalos sin infecciones entre los períodos de informe?"
   ]
  },
  {
   "cell_type": "markdown",
   "id": "d18e0c10",
   "metadata": {},
   "source": [
    "**Paso 2: Identificación del modelo temporal**\n",
    "- Análisis del pseudocódigo:\n",
    "\n",
    "```bash\n",
    "if timestamps are all integers:\n",
    "    likely_discrete_time = True\n",
    "if infection_counts show periodic spikes at fixed intervals:\n",
    "    evidence_for_discrete_time += 1\n",
    "if small_infections_occur_between_peaks:\n",
    "    evidence_for_continous_time += 1\n",
    "```\n",
    "\n",
    "- Calcular la diferencia temporal entre picos de infección\n",
    "- Comprobar si existe transmisión de bajo nivel entre picos\n",
    "- Responda:\n",
    "    - ¿Podrían los patrones observados ser artefactos del modelo temporal?"
   ]
  },
  {
   "cell_type": "markdown",
   "id": "ba4f39f8",
   "metadata": {},
   "source": [
    "**Paso 3: Análisis del Impacto de Rasgos**\n",
    "- Agrupar las tasas de infección por:\n",
    "    - Grupos de edad (0-18, 19-65, 65+)\n",
    "    - Categorías ocupacionales\n",
    "    - Estado de vacunación\n",
    "- Calcule:\n",
    "    - Tasas de ataque (infecciones/población) por grupo\n",
    "    - Riesgos relativos entre grupos\n",
    "- Pseudocódigo:\n",
    "\n",
    "```bash\n",
    "for each trait in agent_attributes:\n",
    "    group_data = infections.groupby(trait).sum()\n",
    "    plot(group_data / population_per_group)\n",
    "```\n",
    "\n",
    "- Responda:\n",
    "    - ¿Qué rasgo muestra la mayor correlación con el riesgo de infección?\n",
    "    - ¿Existen efectos de interacción (p. ej., personas mayores + no vacunadas)?"
   ]
  },
  {
   "cell_type": "markdown",
   "id": "297064be",
   "metadata": {},
   "source": [
    "**Paso 4: Pruebas de validación**\n",
    "- Diseñar pruebas de sensibilidad:\n",
    "    - Para sospechas en tiempo discreto: Reagregar los datos en diferentes ventanas temporales.\n",
    "    - Para efectos de rasgos: Mezclar aleatoriamente los rasgos y comparar los resultados.\n",
    "- Proponer datos reales necesarios para la validación:\n",
    "    - Informes de casos reales por grupo demográfico.\n",
    "    - Datos de movilidad de teléfonos móviles.\n",
    "- Responda:\n",
    "    - ¿Cómo distinguiría a los verdaderos supercontagiadores de los artefactos de modelado?"
   ]
  }
 ],
 "metadata": {
  "language_info": {
   "name": "python"
  }
 },
 "nbformat": 4,
 "nbformat_minor": 5
}
