{
 "cells": [
  {
   "cell_type": "markdown",
   "id": "c854178b",
   "metadata": {},
   "source": [
    "## Ejercicio 2"
   ]
  },
  {
   "cell_type": "markdown",
   "id": "ed67cdde",
   "metadata": {},
   "source": [
    "### **Teoría**\n",
    "#### **Defina y responda:**"
   ]
  },
  {
   "cell_type": "markdown",
   "id": "422a61a3",
   "metadata": {},
   "source": [
    "\n",
    " **1. Considere la taxonomía de rasgos, clasifique y justifique cada uno de los siguientes (discreto, continuo o relacional):**\n",
    "\n",
    " **a. Edad**\n",
    "- A pesar de que se suele medir discretamente, en realidad es una variable **continua**. Esto se debe a que la edad puede tomar un valor numérico en un rango que no se limita a un conjunto discreto de categorías predeterminadas. Es decir, podemos expresar la edad en decimales (ej. 12.5 años), representando una cantidad medible.\n",
    "\n",
    "**b. Profesión**\n",
    "- Es una variable **discreta**, puesto que una profesión pertenece a un conjunto finito de categorías. Además, no existe una escala numérica que conecte estas categorías, por lo que se considera cualitativa.\n",
    "\n",
    "**c. Redes de amistad**\n",
    "- Esta es una variable **relacional**, porque representa explícitamente una conexión o vínculo entre individuos. Se puede modelar como un grafo, en donde los nodos representan a los agentes y las aristas indican las relaciones.\n",
    "\n",
    "**d. Estado de vacunación**\n",
    "- Representa una variable **discreta**, puesto que hay un conjunto limitado de posibles valores para representar el estado de vacunación (vacunado, no vacunado, parcalmente vacunado).\n",
    "\n",
    "<br>\n",
    "\n",
    "**2. Calcule el tamaño total del espacio de parámetros y responda ¿cómo podría afectar esto al tiempo de ejecución de la simulación?**\n",
    "\n",
    "Para esto, considere un escenario de 10,000 agentes con:\n",
    "\n",
    "**a. 3 rasgos continuos (p. ej., tasa de movilidad)**\n",
    "- Para rasgos contínuos, teóricamente su espacio de parámetros tiene la posibilidad de tomar valores infinitos, ya que cada rasgo puede tomar cualquier valor real dentro de su rango definido. Sin embargo, en la práctica, se discretiza cada rasgo en $k_i$ niveles (dividir el rango en pasos uniformes).\n",
    "\n",
    "Las combinaciones por los 3 rasgos por agente se calcularían como:\n",
    "\n",
    "\n",
    "$$\n",
    "k_c * k_c * k_c = k_c^3\n",
    "$$\n",
    "\n",
    "En el caso de ser 10,000 agentes, el número total de configuraciones posibles sería de:\n",
    "\n",
    "$$\n",
    "(k_c^3)^{10000}\n",
    "$$\n",
    "\n",
    "- En tiempos de ejecución, si aumentamos $k_i$ (la resolución), el número de configuraciones a probar,y por tanto el tiempo total de experimentación. Cada corrida además cuesta al menos $$ O(agentes * pasos) $$\n",
    "\n",
    "**b. 2 rasgos discretos (p. ej., ocupación)**\n",
    "- Sea $k_{d1}$ el número de categorías del primer rasgo discreto y $k_{d2}$ el del segundo\n",
    "\n",
    "Las combinaciones por los 2 rasgos por agente se calcularían como:\n",
    "\n",
    "$$\n",
    "k_{d1} * k_{d2}\n",
    "$$\n",
    "\n",
    "De la misma manera, las asignaciones posibles para toda la población sería de:\n",
    "\n",
    "$$\n",
    "(k_{d1}* k_{d2})^{10000}\n",
    "$$\n",
    "\n",
    "- Si hablamos del tiempo de ejecución, a diferencia de los rasgos continuos, aquí el espacio de parámetros es finito. Esto significa que, aunque sigue creciendo conforme aumentan las categorías, lo hace de manera mucho más controlada, por lo que su tamaño crece de forma lineal con el número de valores posibles.\n",
    "\n",
    "Sin embargo, al escalar la simulación a 10,000 agentes, el número de asignaciones posibles todavía se dispara, por lo que resulta inviable explorar absolutamente todas las configuraciones. Por eso, igual que en los rasgos continuos, lo común es muestrear parte del espacio de parámetros y trabajar con réplicas para capturar la variabilidad.\n"
   ]
  },
  {
   "cell_type": "markdown",
   "id": "8ae0542c",
   "metadata": {},
   "source": [
    "## **Práctica**"
   ]
  },
  {
   "cell_type": "markdown",
   "id": "ed6b7e5b",
   "metadata": {},
   "source": [
    "Construya un perfil poblacional heterogéneo para un escenario de “Respuesta a una pandemia urbana”, para ello\n",
    "considere las siguientes tareas"
   ]
  },
  {
   "cell_type": "markdown",
   "id": "dae9aab8",
   "metadata": {},
   "source": [
    "\n",
    "**1. Defina una clase de Python con:**\n",
    "<br>\n",
    "**a. 3 rasgos discretos (p. ej., ocupación)**\n",
    "<br>\n",
    "**b. 2 rasgos continuos (p. ej., tasa de movilidad)**\n",
    "<br>\n",
    "**c. 1 rasgo relacional (p. ej., identificación del hogar)**\n",
    "<br>\n",
    "**d. Responda: ¿Cómo encodearías los trabajadores de la salud vs los maestros para evitar sesgo?**\n",
    "\n",
    "- Para evitar sesgo al encodear trabajadores de la salud y maestros, lo importante es mantener la ocupación como una categoría neutral. La variable ocupacion debe servir únicamente como una etiqueta descriptiva (doctor, maestro, etc.), sin imponer de forma directa que una ocupación tiene más o menos riesgo que otra.\n",
    "\n",
    "    El nivel de exposición debe modelarse a través de otros rasgos que reflejen el contexto real, como las horas de trabajo presencial, el tamaño de los grupos con los que interactúan, el uso de equipo de protección, si los turnos son en el día o en la noche, etc. Así, el riesgo no se asigna por el simple hecho de ser maestro o personal de salud, sino por las condiciones en las que se desempeña cada uno. De esta forma, las diferencias en probabilidad de contacto o transmisión emergen de factores observables y comparables, y no de supuestos subjetivos sobre la ocupación."
   ]
  },
  {
   "cell_type": "code",
   "execution_count": null,
   "id": "4709a554",
   "metadata": {},
   "outputs": [],
   "source": [
    "from dataclasses import dataclass\n",
    "\n",
    "@dataclass\n",
    "class Agente:\n",
    "    # --- Rasgos discretos ---\n",
    "    ocupacion: str            # doctor, maestro, empleado, independiente, desempleado\n",
    "    nivel_ingresos: str       # bajo,medio,alto\n",
    "    esquema_vacunacion: str   # ninguna,incompleta,completa,refuerzo\n",
    "\n",
    "    # --- Rasgos continuos ---\n",
    "    tasa_movilidad: float     # desplazamientos/día (>=0)\n",
    "    prob_contacto: float      # probabilidad de entablar contacto por encuentro (0–1)\n",
    "\n",
    "    # --- Rasgo relacional ---\n",
    "    comunidad_id: int         # identificador de comunidad o zona de la ciudad\n"
   ]
  },
  {
   "cell_type": "markdown",
   "id": "30fbec0e",
   "metadata": {},
   "source": [
    "**2. Proponer métodos de muestreo para distribuciones realistas (p. ej. Distrubución Gamma)**\n",
    "\n",
    "- Para representar mejor la realidad, usaría diferentes distribuciones según el tipo de rasgo. Por ejemplo, la Distribución Gamma  sirve para variables como la movilidad diaria, porque muchas personas se mueven poco y unas pocas se mueven mucho. Para variables entre 0 y 1, como la probabilidad de contacto o el acceso a vacunas, conviene una Beta, que se puede ajustar a distintos promedios. En el caso de categorías como ocupación o vacunación, lo más adecuado es tomar probabilidades basadas en datos o porcentajes de la población.\n",
    "\n",
    "    **a. Responda: Si los datos muestran que el 20% de las enfermeras trabajan en turnos de noche, ¿cómo\n",
    "    validarías esto en tu modelo?**\n",
    "\n",
    "    - Si quiero asegurar que el 20% de las enfermeras trabajan en turno de noche, en el modelo lo valido de manera simple: después de asignar a las personas que son enfermeras, selecciono exactamente un 20% y las marco con turno nocturno. Luego reviso que, en el total de enfermeras, la proporción de noche coincida con ese 20%. Con esto garantizo que el modelo respete el dato observado.\n",
    "\n",
    "\n",
    "**3. Predecir cómo las correlaciones entre rasgos (p. ej., bajos ingresos + bajo acceso a vacunas) podrían\n",
    "distorsionar la dinámica del brote. Fundamente su hipótesis.**\n",
    "\n",
    "- Cuando dos rasgos como bajos ingresos y bajo acceso a vacunas se combinan, el brote puede cambiar bastante. Esto pasa porque en ciertos grupos se acumulan más personas susceptibles, ya sea porque viven en casas con muchas personas, usan más el transporte público o tienen menos posibilidad de vacunarse. Aunque en promedio la ciudad parezca tener buena cobertura, esos grupos generan focos locales de contagio donde el virus circula más tiempo.\n",
    "\n",
    "    La consecuencia es que la epidemia no se comporta de manera uniforme: en algunas comunidades los casos bajan rápido, pero en otros siguen apareciendo brotes. Esto hace que la curva general sea más difícil de controlar y obliga a pensar en intervenciones dirigidas, no solo medidas iguales para todos."
   ]
  }
 ],
 "metadata": {
  "kernelspec": {
   "display_name": "Python 3",
   "language": "python",
   "name": "python3"
  },
  "language_info": {
   "codemirror_mode": {
    "name": "ipython",
    "version": 3
   },
   "file_extension": ".py",
   "mimetype": "text/x-python",
   "name": "python",
   "nbconvert_exporter": "python",
   "pygments_lexer": "ipython3",
   "version": "3.10.11"
  }
 },
 "nbformat": 4,
 "nbformat_minor": 5
}
