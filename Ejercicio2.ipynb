{
 "cells": [
  {
   "cell_type": "markdown",
   "id": "c854178b",
   "metadata": {},
   "source": [
    "# **Ejercicio 2**\n",
    "\n",
    "Link del repo: https://github.com/FabianKel/ModSim-LAB4"
   ]
  },
  {
   "cell_type": "markdown",
   "id": "ed67cdde",
   "metadata": {},
   "source": [
    "## **Teoría**"
   ]
  },
  {
   "cell_type": "markdown",
   "id": "422a61a3",
   "metadata": {},
   "source": [
    "Defina y responda:\n",
    "<br>\n",
    "\n",
    "### **1. Considere la taxonomía de rasgos, clasifique y justifique cada uno de los siguientes (discreto, continuo o relacional):**\n",
    "\n",
    "#### **a. Edad**\n",
    "- A pesar de que se suele medir discretamente, en realidad es una variable **continua**. Esto se debe a que la edad puede tomar un valor numérico en un rango que no se limita a un conjunto discreto de categorías predeterminadas. Es decir, podemos expresar la edad en decimales (ej. 12.5 años), representando una cantidad medible.\n",
    "\n",
    "#### **b. Profesión**\n",
    "- Es una variable **discreta**, puesto que una profesión pertenece a un conjunto finito de categorías. Además, no existe una escala numérica que conecte estas categorías, por lo que se considera cualitativa.\n",
    "\n",
    "#### **c. Redes de amistad**\n",
    "- Esta es una variable **relacional**, porque representa explícitamente una conexión o vínculo entre individuos. Se puede modelar como un grafo, en donde los nodos representan a los agentes y las aristas indican las relaciones.\n",
    "\n",
    "### **d. Estado de vacunación**\n",
    "- Representa una variable **discreta**, puesto que hay un conjunto limitado de posibles valores para representar el estado de vacunación (vacunado, no vacunado, parcalmente vacunado).\n",
    "\n",
    "### **2. Calcule el tamaño total del espacio de parámetros y responda ¿cómo podría afectar esto al tiempo de ejecución de la simulación?**\n",
    "\n",
    "Para esto, considere un escenario de 10,000 agentes con:\n",
    "\n",
    "#### **a. 3 rasgos continuos (p. ej., tasa de movilidad)**\n",
    "- Para rasgos contínuos, teóricamente su espacio de parámetros tiene la posibilidad de tomar valores infinitos, ya que cada rasgo puede tomar cualquier valor real dentro de su rango definido. \n",
    "\n",
    "...\n",
    "\n",
    "- En tiempos de ejecución, tendría mayor costo computacional debido a los cálculos matemáticos y comparaciones, por lo que podría requerir de algoritmos de búsquedas que optimicen ese tipo de operaciones, además de realizar comparaciones de manera eficiente.\n",
    "\n",
    "#### **b. 2 rasgos discretos (p. ej., ocupación)**\n"
   ]
  },
  {
   "cell_type": "markdown",
   "id": "8ae0542c",
   "metadata": {},
   "source": [
    "## **Práctica**"
   ]
  }
 ],
 "metadata": {
  "language_info": {
   "name": "python"
  }
 },
 "nbformat": 4,
 "nbformat_minor": 5
}
