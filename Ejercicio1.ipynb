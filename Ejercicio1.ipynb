{
 "cells": [
  {
   "cell_type": "markdown",
   "id": "865f7296",
   "metadata": {},
   "source": [
    "## Teoría\n",
    "**Defina y responda**\n",
    "1. Comparar la simulación de tiempo discreto (síncrona) y de tiempo continuo (asíncrona):\n",
    "    - Describir escenarios donde cada una es preferible.\n",
    "    - Analizar las compensaciones computacionales (velocidad vs. precisión).\n",
    "2. Sobre los mecanismos de gestión de eventos:\n",
    "    - Explicar cómo las colas de eventos gestionan los cambios de estado.\n",
    "    - Analizar la gestión de prioridades para eventos concurrentes."
   ]
  },
  {
   "cell_type": "markdown",
   "id": "eae08ec6",
   "metadata": {},
   "source": [
    "## Ejercicio práctico\n",
    "**Diseñe un marco de simulación de Python:**\n",
    "1. Escenario: Propagación de enfermedades en un hospital\n",
    "2. Tareas\n",
    "    - Esboce dos arquitecturas\n",
    "        - Tiempo discreto (actualizaciones diarias)\n",
    "        - Tiempo continuo (infecciones impulsadas por eventos)\n",
    "    - Para cada una, programe y diga\n",
    "        - Atributos clave del agente necesarios.\n",
    "        - Tipos de eventos a monitorizar.\n",
    "        - Métricas de salida esperadas.\n",
    "\n",
    "> Al ser el diseño, no se espera que corra la simulación en código, solo que deje el pseudo código y las especificaciones del mismo. Si hace que ejecute, esto contará como puntos extras"
   ]
  }
 ],
 "metadata": {
  "language_info": {
   "name": "python"
  }
 },
 "nbformat": 4,
 "nbformat_minor": 5
}
